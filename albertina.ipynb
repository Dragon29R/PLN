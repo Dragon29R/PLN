{
 "cells": [
  {
   "cell_type": "code",
   "execution_count": 1,
   "id": "0a3691b7",
   "metadata": {},
   "outputs": [
    {
     "name": "stdout",
     "output_type": "stream",
     "text": [
      "8002\n",
      "7674\n"
     ]
    }
   ],
   "source": [
    "from datasets import load_dataset\n",
    "from transformers import AutoTokenizer\n",
    "from transformers import AutoModel\n",
    "from transformers import AutoModelForSequenceClassification\n",
    "from transformers import TrainingArguments, Trainer\n",
    "from transformers import DataCollatorWithPadding\n",
    "import evaluate\n",
    "import numpy as np\n",
    "import pandas as pd\n",
    "import os\n",
    "#from resultsAnalyse import drawConfusionMatrix\n",
    "import torch\n",
    "from sklearn.metrics import f1_score, accuracy_score, precision_score, recall_score\n",
    "def filter_inadequada(example):\n",
    "    return example[\"INADEQUADA\"] == 0\n",
    "\n",
    "ds = load_dataset(\"higopires/RePro-categories-multilabel\")\n",
    "print(len(ds[\"train\"]))\n",
    "#remove INADEQUADA examples\n",
    "ds = ds.filter(filter_inadequada)\n",
    "#remove only keep the firs 1000 examples\n",
    "#ds[\"train\"] = ds[\"train\"].filter(lambda example, idx: idx < 10, with_indices=True)\n",
    "#ds[\"test\"] = ds[\"test\"].filter(lambda example, idx: idx < 1000, with_indices=True)\n",
    "#ds[\"validation\"] = ds[\"validation\"].filter(lambda example, idx: idx < 10, with_indices=True)\n",
    "print(len(ds[\"train\"]))"
   ]
  },
  {
   "cell_type": "code",
   "execution_count": 2,
   "id": "1c48fd1e",
   "metadata": {},
   "outputs": [],
   "source": [
    "def compute_metrics(eval_pred):\n",
    "    logits, labels = eval_pred\n",
    "    # Convert logits to probabilities and then to binary predictions\n",
    "    predictions = (torch.sigmoid(torch.tensor(logits)) > 0.5).int().numpy()\n",
    "    print(f\"DEBUG: Original logits shape: {logits.shape}\")\n",
    "    print(f\"DEBUG: Original labels shape: {labels.shape}\")\n",
    "    # Calculate sample-wise F1 score\n",
    "    f1 = f1_score(labels, predictions, average='micro', zero_division=0)\n",
    "    precision = precision_score(labels, predictions, average='micro', zero_division=0)\n",
    "\n",
    "    recall = recall_score(labels, predictions, average='micro', zero_division=0)\n",
    "    return {'f1_micro': float(f1), 'precision': float(precision), 'recall': float(recall)}\n",
    "model_name = \"PORTULAN/albertina-100m-portuguese-ptbr-encoder\"\n",
    "tokenizer = AutoTokenizer.from_pretrained(model_name)\n",
    "def preprocess_function(sample):\n",
    "    # Tokenize text\n",
    "    tokenized = tokenizer(sample[\"review_text\"], truncation=True, padding=True, max_length=512, return_tensors=\"pt\")\n",
    "    \n",
    "    # Convert binary label columns to a list (e.g., [1, 0, 1, 0, 0, 0])\n",
    "    labels = []\n",
    "    for i in range(len(sample[\"review_text\"])):\n",
    "        label_row = [\n",
    "            float(sample[\"ENTREGA\"][i]),\n",
    "            float(sample[\"OUTROS\"][i]),\n",
    "            float(sample[\"PRODUTO\"][i]),\n",
    "            float(sample[\"CONDICOESDERECEBIMENTO\"][i]),\n",
    "            float(sample[\"ANUNCIO\"][i])\n",
    "        ]\n",
    "        labels.append(label_row)\n",
    "    \n",
    "    tokenized[\"labels\"] = torch.tensor(labels, dtype=torch.float)\n",
    "    return tokenized\n",
    "#check if output layer has 5 outputs\n",
    "#print(model.classifier.out_features)\n",
    "#model.classifier.out_features = 5  # Explicitly ensure final layer has 5 outputs"
   ]
  },
  {
   "cell_type": "code",
   "execution_count": 3,
   "id": "27b94a9a",
   "metadata": {},
   "outputs": [
    {
     "name": "stderr",
     "output_type": "stream",
     "text": [
      "Some weights of DebertaForSequenceClassification were not initialized from the model checkpoint at PORTULAN/albertina-100m-portuguese-ptbr-encoder and are newly initialized: ['classifier.bias', 'classifier.weight', 'pooler.dense.bias', 'pooler.dense.weight']\n",
      "You should probably TRAIN this model on a down-stream task to be able to use it for predictions and inference.\n"
     ]
    }
   ],
   "source": [
    "device = \"cuda\" if torch.cuda.is_available() else \"cpu\"\n",
    "model = AutoModelForSequenceClassification.from_pretrained(model_name, num_labels=5,problem_type=\"multi_label_classification\",ignore_mismatched_sizes=True)"
   ]
  },
  {
   "cell_type": "code",
   "execution_count": 4,
   "id": "d20794e3",
   "metadata": {},
   "outputs": [
    {
     "data": {
      "application/vnd.jupyter.widget-view+json": {
       "model_id": "a6aa04837a71471cbe99c1a0ad439a60",
       "version_major": 2,
       "version_minor": 0
      },
      "text/plain": [
       "Map:   0%|          | 0/952 [00:00<?, ? examples/s]"
      ]
     },
     "metadata": {},
     "output_type": "display_data"
    }
   ],
   "source": [
    "model.to(device)\n",
    "tokenized_dataset = ds.map(preprocess_function, batched=True)"
   ]
  },
  {
   "cell_type": "code",
   "execution_count": 5,
   "id": "22964c3a",
   "metadata": {},
   "outputs": [
    {
     "name": "stderr",
     "output_type": "stream",
     "text": [
      "C:\\Users\\tomas\\AppData\\Local\\Temp\\ipykernel_19240\\313440308.py:16: FutureWarning: `tokenizer` is deprecated and will be removed in version 5.0.0 for `Trainer.__init__`. Use `processing_class` instead.\n",
      "  trainer = Trainer(\n"
     ]
    }
   ],
   "source": [
    "training_args = TrainingArguments(\n",
    "    output_dir=\"./resultsAlbertina\",\n",
    "    learning_rate=1e-5,\n",
    "    per_device_train_batch_size=5,\n",
    "    per_device_eval_batch_size=5,\n",
    "    num_train_epochs=20,\n",
    "    weight_decay=0.01,\n",
    "    eval_strategy=\"epoch\", # run validation at the end of each epoch\n",
    "    save_strategy=\"epoch\",\n",
    "    load_best_model_at_end=True,\n",
    "    metric_for_best_model=\"f1_micro\",\n",
    ")\n",
    "tokenizer = AutoTokenizer.from_pretrained(model_name)\n",
    "data_collator = DataCollatorWithPadding(tokenizer=tokenizer)\n",
    "\n",
    "trainer = Trainer(\n",
    "    model=model,\n",
    "    args=training_args,\n",
    "    train_dataset=tokenized_dataset[\"train\"],\n",
    "    eval_dataset=tokenized_dataset[\"validation\"],\n",
    "    tokenizer=tokenizer,\n",
    "    data_collator=data_collator,\n",
    "    compute_metrics=compute_metrics\n",
    ")\n"
   ]
  },
  {
   "cell_type": "code",
   "execution_count": 6,
   "id": "2f214f95",
   "metadata": {},
   "outputs": [
    {
     "data": {
      "text/html": [
       "\n",
       "    <div>\n",
       "      \n",
       "      <progress value='30700' max='30700' style='width:300px; height:20px; vertical-align: middle;'></progress>\n",
       "      [30700/30700 4:17:56, Epoch 20/20]\n",
       "    </div>\n",
       "    <table border=\"1\" class=\"dataframe\">\n",
       "  <thead>\n",
       " <tr style=\"text-align: left;\">\n",
       "      <th>Epoch</th>\n",
       "      <th>Training Loss</th>\n",
       "      <th>Validation Loss</th>\n",
       "      <th>F1 Micro</th>\n",
       "      <th>Precision</th>\n",
       "      <th>Recall</th>\n",
       "    </tr>\n",
       "  </thead>\n",
       "  <tbody>\n",
       "    <tr>\n",
       "      <td>1</td>\n",
       "      <td>0.194200</td>\n",
       "      <td>0.172101</td>\n",
       "      <td>0.901961</td>\n",
       "      <td>0.925746</td>\n",
       "      <td>0.879367</td>\n",
       "    </tr>\n",
       "    <tr>\n",
       "      <td>2</td>\n",
       "      <td>0.135300</td>\n",
       "      <td>0.135885</td>\n",
       "      <td>0.926576</td>\n",
       "      <td>0.913517</td>\n",
       "      <td>0.940013</td>\n",
       "    </tr>\n",
       "    <tr>\n",
       "      <td>3</td>\n",
       "      <td>0.097600</td>\n",
       "      <td>0.145535</td>\n",
       "      <td>0.934421</td>\n",
       "      <td>0.925065</td>\n",
       "      <td>0.943968</td>\n",
       "    </tr>\n",
       "    <tr>\n",
       "      <td>4</td>\n",
       "      <td>0.075700</td>\n",
       "      <td>0.165874</td>\n",
       "      <td>0.931248</td>\n",
       "      <td>0.920747</td>\n",
       "      <td>0.941991</td>\n",
       "    </tr>\n",
       "    <tr>\n",
       "      <td>5</td>\n",
       "      <td>0.059500</td>\n",
       "      <td>0.182444</td>\n",
       "      <td>0.938776</td>\n",
       "      <td>0.937541</td>\n",
       "      <td>0.940013</td>\n",
       "    </tr>\n",
       "    <tr>\n",
       "      <td>6</td>\n",
       "      <td>0.042600</td>\n",
       "      <td>0.213813</td>\n",
       "      <td>0.935116</td>\n",
       "      <td>0.925161</td>\n",
       "      <td>0.945287</td>\n",
       "    </tr>\n",
       "    <tr>\n",
       "      <td>7</td>\n",
       "      <td>0.023500</td>\n",
       "      <td>0.221618</td>\n",
       "      <td>0.938158</td>\n",
       "      <td>0.936310</td>\n",
       "      <td>0.940013</td>\n",
       "    </tr>\n",
       "    <tr>\n",
       "      <td>8</td>\n",
       "      <td>0.018800</td>\n",
       "      <td>0.237618</td>\n",
       "      <td>0.939703</td>\n",
       "      <td>0.939394</td>\n",
       "      <td>0.940013</td>\n",
       "    </tr>\n",
       "    <tr>\n",
       "      <td>9</td>\n",
       "      <td>0.010800</td>\n",
       "      <td>0.268216</td>\n",
       "      <td>0.934946</td>\n",
       "      <td>0.927367</td>\n",
       "      <td>0.942650</td>\n",
       "    </tr>\n",
       "    <tr>\n",
       "      <td>10</td>\n",
       "      <td>0.010600</td>\n",
       "      <td>0.276114</td>\n",
       "      <td>0.938709</td>\n",
       "      <td>0.933507</td>\n",
       "      <td>0.943968</td>\n",
       "    </tr>\n",
       "    <tr>\n",
       "      <td>11</td>\n",
       "      <td>0.006600</td>\n",
       "      <td>0.289333</td>\n",
       "      <td>0.935780</td>\n",
       "      <td>0.930293</td>\n",
       "      <td>0.941332</td>\n",
       "    </tr>\n",
       "    <tr>\n",
       "      <td>12</td>\n",
       "      <td>0.004200</td>\n",
       "      <td>0.310322</td>\n",
       "      <td>0.937520</td>\n",
       "      <td>0.930519</td>\n",
       "      <td>0.944628</td>\n",
       "    </tr>\n",
       "    <tr>\n",
       "      <td>13</td>\n",
       "      <td>0.001900</td>\n",
       "      <td>0.332158</td>\n",
       "      <td>0.934904</td>\n",
       "      <td>0.927922</td>\n",
       "      <td>0.941991</td>\n",
       "    </tr>\n",
       "    <tr>\n",
       "      <td>14</td>\n",
       "      <td>0.003200</td>\n",
       "      <td>0.324451</td>\n",
       "      <td>0.938012</td>\n",
       "      <td>0.933420</td>\n",
       "      <td>0.942650</td>\n",
       "    </tr>\n",
       "    <tr>\n",
       "      <td>15</td>\n",
       "      <td>0.001400</td>\n",
       "      <td>0.347746</td>\n",
       "      <td>0.934378</td>\n",
       "      <td>0.925614</td>\n",
       "      <td>0.943309</td>\n",
       "    </tr>\n",
       "    <tr>\n",
       "      <td>16</td>\n",
       "      <td>0.003200</td>\n",
       "      <td>0.336520</td>\n",
       "      <td>0.938401</td>\n",
       "      <td>0.932899</td>\n",
       "      <td>0.943968</td>\n",
       "    </tr>\n",
       "    <tr>\n",
       "      <td>17</td>\n",
       "      <td>0.001900</td>\n",
       "      <td>0.350127</td>\n",
       "      <td>0.934249</td>\n",
       "      <td>0.927273</td>\n",
       "      <td>0.941332</td>\n",
       "    </tr>\n",
       "    <tr>\n",
       "      <td>18</td>\n",
       "      <td>0.001200</td>\n",
       "      <td>0.344485</td>\n",
       "      <td>0.937173</td>\n",
       "      <td>0.930474</td>\n",
       "      <td>0.943968</td>\n",
       "    </tr>\n",
       "    <tr>\n",
       "      <td>19</td>\n",
       "      <td>0.000700</td>\n",
       "      <td>0.345995</td>\n",
       "      <td>0.937132</td>\n",
       "      <td>0.931034</td>\n",
       "      <td>0.943309</td>\n",
       "    </tr>\n",
       "    <tr>\n",
       "      <td>20</td>\n",
       "      <td>0.000400</td>\n",
       "      <td>0.351171</td>\n",
       "      <td>0.937787</td>\n",
       "      <td>0.931685</td>\n",
       "      <td>0.943968</td>\n",
       "    </tr>\n",
       "  </tbody>\n",
       "</table><p>"
      ],
      "text/plain": [
       "<IPython.core.display.HTML object>"
      ]
     },
     "metadata": {},
     "output_type": "display_data"
    },
    {
     "name": "stdout",
     "output_type": "stream",
     "text": [
      "DEBUG: Original logits shape: (952, 5)\n",
      "DEBUG: Original labels shape: (952, 5)\n",
      "DEBUG: Original logits shape: (952, 5)\n",
      "DEBUG: Original labels shape: (952, 5)\n",
      "DEBUG: Original logits shape: (952, 5)\n",
      "DEBUG: Original labels shape: (952, 5)\n",
      "DEBUG: Original logits shape: (952, 5)\n",
      "DEBUG: Original labels shape: (952, 5)\n",
      "DEBUG: Original logits shape: (952, 5)\n",
      "DEBUG: Original labels shape: (952, 5)\n",
      "DEBUG: Original logits shape: (952, 5)\n",
      "DEBUG: Original labels shape: (952, 5)\n",
      "DEBUG: Original logits shape: (952, 5)\n",
      "DEBUG: Original labels shape: (952, 5)\n",
      "DEBUG: Original logits shape: (952, 5)\n",
      "DEBUG: Original labels shape: (952, 5)\n",
      "DEBUG: Original logits shape: (952, 5)\n",
      "DEBUG: Original labels shape: (952, 5)\n",
      "DEBUG: Original logits shape: (952, 5)\n",
      "DEBUG: Original labels shape: (952, 5)\n",
      "DEBUG: Original logits shape: (952, 5)\n",
      "DEBUG: Original labels shape: (952, 5)\n",
      "DEBUG: Original logits shape: (952, 5)\n",
      "DEBUG: Original labels shape: (952, 5)\n",
      "DEBUG: Original logits shape: (952, 5)\n",
      "DEBUG: Original labels shape: (952, 5)\n",
      "DEBUG: Original logits shape: (952, 5)\n",
      "DEBUG: Original labels shape: (952, 5)\n",
      "DEBUG: Original logits shape: (952, 5)\n",
      "DEBUG: Original labels shape: (952, 5)\n",
      "DEBUG: Original logits shape: (952, 5)\n",
      "DEBUG: Original labels shape: (952, 5)\n",
      "DEBUG: Original logits shape: (952, 5)\n",
      "DEBUG: Original labels shape: (952, 5)\n",
      "DEBUG: Original logits shape: (952, 5)\n",
      "DEBUG: Original labels shape: (952, 5)\n",
      "DEBUG: Original logits shape: (952, 5)\n",
      "DEBUG: Original labels shape: (952, 5)\n",
      "DEBUG: Original logits shape: (952, 5)\n",
      "DEBUG: Original labels shape: (952, 5)\n"
     ]
    },
    {
     "data": {
      "text/plain": [
       "TrainOutput(global_step=30700, training_loss=0.03796310028877316, metrics={'train_runtime': 15477.4982, 'train_samples_per_second': 9.916, 'train_steps_per_second': 1.984, 'total_flos': 4.619381298532838e+16, 'train_loss': 0.03796310028877316, 'epoch': 20.0})"
      ]
     },
     "execution_count": 6,
     "metadata": {},
     "output_type": "execute_result"
    }
   ],
   "source": [
    "trainer.train()"
   ]
  },
  {
   "cell_type": "code",
   "execution_count": 7,
   "id": "36046355",
   "metadata": {},
   "outputs": [
    {
     "data": {
      "text/html": [],
      "text/plain": [
       "<IPython.core.display.HTML object>"
      ]
     },
     "metadata": {},
     "output_type": "display_data"
    },
    {
     "name": "stdout",
     "output_type": "stream",
     "text": [
      "DEBUG: Original logits shape: (966, 5)\n",
      "DEBUG: Original labels shape: (966, 5)\n"
     ]
    },
    {
     "data": {
      "text/plain": [
       "{'test_loss': 0.2603171169757843,\n",
       " 'test_f1_micro': 0.9301868239921337,\n",
       " 'test_precision': 0.9304918032786885,\n",
       " 'test_recall': 0.9298820445609436,\n",
       " 'test_runtime': 17.4437,\n",
       " 'test_samples_per_second': 55.378,\n",
       " 'test_steps_per_second': 11.121}"
      ]
     },
     "execution_count": 7,
     "metadata": {},
     "output_type": "execute_result"
    }
   ],
   "source": [
    "y_pred = trainer.predict(tokenized_dataset[\"test\"])\n",
    "y_pred.metrics"
   ]
  },
  {
   "cell_type": "code",
   "execution_count": 8,
   "id": "8940638b",
   "metadata": {},
   "outputs": [],
   "source": [
    "trainer.save_model(\"alberta_base\")"
   ]
  },
  {
   "cell_type": "code",
   "execution_count": 9,
   "id": "135e2f2f",
   "metadata": {},
   "outputs": [],
   "source": [
    "#free cuda memory\n",
    "torch.cuda.empty_cache()"
   ]
  },
  {
   "cell_type": "code",
   "execution_count": null,
   "id": "4fc819fb",
   "metadata": {},
   "outputs": [],
   "source": []
  }
 ],
 "metadata": {
  "kernelspec": {
   "display_name": "base",
   "language": "python",
   "name": "python3"
  },
  "language_info": {
   "codemirror_mode": {
    "name": "ipython",
    "version": 3
   },
   "file_extension": ".py",
   "mimetype": "text/x-python",
   "name": "python",
   "nbconvert_exporter": "python",
   "pygments_lexer": "ipython3",
   "version": "3.9.19"
  }
 },
 "nbformat": 4,
 "nbformat_minor": 5
}
