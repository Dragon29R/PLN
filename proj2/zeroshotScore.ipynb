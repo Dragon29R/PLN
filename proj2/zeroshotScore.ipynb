{
 "cells": [
  {
   "cell_type": "code",
   "execution_count": 1,
   "id": "7bceb71b",
   "metadata": {},
   "outputs": [
    {
     "name": "stderr",
     "output_type": "stream",
     "text": [
      "c:\\Users\\diogo\\AppData\\Local\\Programs\\Python\\Python313\\Lib\\site-packages\\tqdm\\auto.py:21: TqdmWarning: IProgress not found. Please update jupyter and ipywidgets. See https://ipywidgets.readthedocs.io/en/stable/user_install.html\n",
      "  from .autonotebook import tqdm as notebook_tqdm\n"
     ]
    },
    {
     "name": "stdout",
     "output_type": "stream",
     "text": [
      "Using device: cuda\n"
     ]
    }
   ],
   "source": [
    "from transformers import pipeline\n",
    "from datasets import load_dataset\n",
    "from transformers import AutoTokenizer, pipeline\n",
    "import torch\n",
    "import numpy as np\n",
    "from sklearn.metrics import f1_score, accuracy_score, precision_score, recall_score\n",
    "\n",
    "\n",
    "# Load your dataset\n",
    "ds = load_dataset(\"higopires/RePro-categories-multilabel\")\n",
    "\n",
    "def filter_inadequada(example):\n",
    "    return example[\"INADEQUADA\"] == 0\n",
    "device = \"cuda\" if torch.cuda.is_available() else \"cpu\"\n",
    "ds = ds.filter(filter_inadequada)\n",
    "print(f\"Using device: {device}\")\n"
   ]
  },
  {
   "cell_type": "code",
   "execution_count": 2,
   "id": "53faa918",
   "metadata": {},
   "outputs": [
    {
     "name": "stderr",
     "output_type": "stream",
     "text": [
      "No model was supplied, defaulted to facebook/bart-large-mnli and revision d7645e1 (https://huggingface.co/facebook/bart-large-mnli).\n",
      "Using a pipeline without specifying a model name and revision in production is not recommended.\n"
     ]
    },
    {
     "name": "stdout",
     "output_type": "stream",
     "text": [
      "Using device: cuda\n"
     ]
    },
    {
     "name": "stderr",
     "output_type": "stream",
     "text": [
      "Device set to use cuda\n"
     ]
    }
   ],
   "source": [
    "device = \"cuda\" if torch.cuda.is_available() else \"cpu\"\n",
    "print(f\"Using device: {device}\")\n",
    "classifier = pipeline(\"zero-shot-classification\",mode=\"PORTULAN/albertina-1b5-portuguese-ptbr-encoder\",    return_all_scores=True,device=device) #, model=\"facebook/bart-large-mnli\")"
   ]
  },
  {
   "cell_type": "code",
   "execution_count": 3,
   "id": "b2779807",
   "metadata": {},
   "outputs": [
    {
     "name": "stdout",
     "output_type": "stream",
     "text": [
      "{'f1_micro': 1.0, 'precision': 1.0, 'recall': 1.0}\n"
     ]
    }
   ],
   "source": [
    "def compute_metrics(predictions,labels):\n",
    "    # Calculate sample-wise F1 score\n",
    "    f1 = f1_score(labels, predictions, average='micro', zero_division=0)\n",
    "    precision = precision_score(labels, predictions, average='micro', zero_division=0)\n",
    "\n",
    "    recall = recall_score(labels, predictions, average='micro', zero_division=0)\n",
    "    return {'f1_micro': float(f1), 'precision': float(precision), 'recall': float(recall)}\n",
    "print(compute_metrics([[1,0,1],[0,1,0]],[[1,0,1],[0,1,0]]))"
   ]
  },
  {
   "cell_type": "code",
   "execution_count": null,
   "id": "65111045",
   "metadata": {},
   "outputs": [
    {
     "name": "stdout",
     "output_type": "stream",
     "text": [
      "Processing example 0/966\n"
     ]
    },
    {
     "name": "stderr",
     "output_type": "stream",
     "text": [
      "You seem to be using the pipelines sequentially on GPU. In order to maximize efficiency please use a dataset\n"
     ]
    },
    {
     "name": "stdout",
     "output_type": "stream",
     "text": [
      "Processing example 100/966\n",
      "Processing example 200/966\n",
      "Processing example 300/966\n",
      "Processing example 400/966\n",
      "Processing example 500/966\n"
     ]
    }
   ],
   "source": [
    "preds = []\n",
    "y = []\n",
    "for i in range(len(ds['test'])):\n",
    "    if i % 100 == 0:\n",
    "        print(f\"Processing example {i}/{len(ds['test'])}\")\n",
    "    \n",
    "    example = ds['test'][i]\n",
    "    text = example[\"review_text\"]\n",
    "    \n",
    "    # Perform zero-shot classification\n",
    "    entrega = classifier(text, candidate_labels=[\"entrega\", \"não entrega\"], multi_label=True)\n",
    "    outros = classifier(text, candidate_labels=[\"outros\", \"não outros\"], multi_label=True)\n",
    "    produtos = classifier(text, candidate_labels=[\"produtos\", \"não produtos\"], multi_label=True)\n",
    "    condições_Recb = classifier(text, candidate_labels=[\"condições de recebimento\", \"não condições de recebimento\"], multi_label=True)\n",
    "    anuncio = classifier(text, candidate_labels=[\"anuncio\", \"não anuncio\"], multi_label=True)\n",
    "    labels = [entrega['labels'][0], outros['labels'][0], produtos['labels'][0], condições_Recb['labels'][0], anuncio['labels'][0]]\n",
    "    # transform the labels to a binary format\n",
    "    labels = [1 if label == \"entrega\" or label == \"outros\" or label == \"produtos\" or label == \"condições de recebimento\" or label == \"anuncio\" else 0 for label in labels]\n",
    "    preds.append(labels)\n",
    "    y.append([example[\"ENTREGA\"],example[\"OUTROS\"],example[\"PRODUTO\"],example[\"CONDICOESDERECEBIMENTO\"],example[\"ANUNCIO\"]])\n",
    "    #print(preds,y)\n",
    "    #print(compute_metrics(preds,y))\n",
    "print(compute_metrics(preds,y))\n",
    "\n"
   ]
  }
 ],
 "metadata": {
  "kernelspec": {
   "display_name": "Python 3",
   "language": "python",
   "name": "python3"
  },
  "language_info": {
   "codemirror_mode": {
    "name": "ipython",
    "version": 3
   },
   "file_extension": ".py",
   "mimetype": "text/x-python",
   "name": "python",
   "nbconvert_exporter": "python",
   "pygments_lexer": "ipython3",
   "version": "3.13.3"
  }
 },
 "nbformat": 4,
 "nbformat_minor": 5
}
