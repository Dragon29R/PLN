{
 "cells": [
  {
   "cell_type": "code",
   "execution_count": 1,
   "id": "88c29748",
   "metadata": {},
   "outputs": [
    {
     "name": "stdout",
     "output_type": "stream",
     "text": [
      "8002\n",
      "7674\n"
     ]
    }
   ],
   "source": [
    "from datasets import load_dataset\n",
    "from transformers import AutoTokenizer\n",
    "from transformers import AutoModel\n",
    "from transformers import AutoModelForSequenceClassification\n",
    "from transformers import TrainingArguments, Trainer\n",
    "from transformers import DataCollatorWithPadding\n",
    "import evaluate\n",
    "import numpy as np\n",
    "import pandas as pd\n",
    "import os\n",
    "import torch\n",
    "from sklearn.metrics import f1_score\n",
    "def filter_inadequada(example):\n",
    "    return example[\"INADEQUADA\"] == 0\n",
    "\n",
    "ds = load_dataset(\"higopires/RePro-categories-multilabel\")\n",
    "print(len(ds[\"train\"]))\n",
    "#remove INADEQUADA examples\n",
    "ds = ds.filter(filter_inadequada)\n",
    "#remove only keep the firs 1000 examples\n",
    "#ds[\"train\"] = ds[\"train\"].filter(lambda example, idx: idx < 1000, with_indices=True)\n",
    "#ds[\"test\"] = ds[\"test\"].filter(lambda example, idx: idx < 1000, with_indices=True)\n",
    "#ds[\"validation\"] = ds[\"validation\"].filter(lambda example, idx: idx < 1000, with_indices=True)\n",
    "print(len(ds[\"train\"]))"
   ]
  },
  {
   "cell_type": "code",
   "execution_count": 2,
   "id": "386c4e5e",
   "metadata": {},
   "outputs": [],
   "source": [
    "device = \"cuda\" if torch.cuda.is_available() else \"cpu\"\n",
    "model = AutoModelForSequenceClassification.from_pretrained(\"Large_Bert_model\",num_labels=5,problem_type=\"multi_label_classification\")\n",
    "tokenizer = AutoTokenizer.from_pretrained(\"Large_Bert_model\")\n"
   ]
  },
  {
   "cell_type": "code",
   "execution_count": 5,
   "id": "c32bbc9e",
   "metadata": {},
   "outputs": [],
   "source": [
    "def compute_metrics(eval_pred):\n",
    "    logits, labels = eval_pred\n",
    "    # Convert logits to probabilities and then to binary predictions\n",
    "    predictions = (torch.sigmoid(torch.tensor(logits)) > 0.5).int().numpy()\n",
    "    print(f\"DEBUG: Original logits shape: {logits.shape}\")\n",
    "    print(f\"DEBUG: Original labels shape: {labels.shape}\")\n",
    "    # Calculate sample-wise F1 score\n",
    "    f1 = f1_score(labels, predictions, average='micro', zero_division=0)\n",
    "    \n",
    "    return {'f1_micro': float(f1)}\n",
    "def preprocess_function(sample):\n",
    "    # Tokenize text\n",
    "    tokenized = tokenizer(sample[\"review_text\"], truncation=True, padding=True, max_length=512, return_tensors=\"pt\")\n",
    "    \n",
    "    # Convert binary label columns to a list (e.g., [1, 0, 1, 0, 0, 0])\n",
    "    labels = []\n",
    "    for i in range(len(sample[\"review_text\"])):\n",
    "        label_row = [\n",
    "            float(sample[\"ENTREGA\"][i]),\n",
    "            float(sample[\"OUTROS\"][i]),\n",
    "            float(sample[\"PRODUTO\"][i]),\n",
    "            float(sample[\"CONDICOESDERECEBIMENTO\"][i]),\n",
    "            float(sample[\"ANUNCIO\"][i])\n",
    "        ]\n",
    "        labels.append(label_row)\n",
    "    \n",
    "    tokenized[\"labels\"] = torch.tensor(labels, dtype=torch.float)\n",
    "    return tokenized\n",
    "#check if output layer has 5 outputs\n",
    "#print(model.classifier.out_features)\n",
    "#model.classifier.out_features = 5  # Explicitly ensure final layer has 5 outputs"
   ]
  },
  {
   "cell_type": "code",
   "execution_count": 6,
   "id": "a57e9196",
   "metadata": {},
   "outputs": [
    {
     "data": {
      "application/vnd.jupyter.widget-view+json": {
       "model_id": "8292866caf5140e495a03f84e8dc1bea",
       "version_major": 2,
       "version_minor": 0
      },
      "text/plain": [
       "Map:   0%|          | 0/7674 [00:00<?, ? examples/s]"
      ]
     },
     "metadata": {},
     "output_type": "display_data"
    }
   ],
   "source": [
    "model.to(device)\n",
    "tokenized_dataset = ds.map(preprocess_function, batched=True)"
   ]
  },
  {
   "cell_type": "code",
   "execution_count": 7,
   "id": "e4e78f8b",
   "metadata": {},
   "outputs": [
    {
     "name": "stderr",
     "output_type": "stream",
     "text": [
      "C:\\Users\\tomas\\AppData\\Local\\Temp\\ipykernel_14456\\2190794626.py:15: FutureWarning: `tokenizer` is deprecated and will be removed in version 5.0.0 for `Trainer.__init__`. Use `processing_class` instead.\n",
      "  trainer = Trainer(\n"
     ]
    }
   ],
   "source": [
    "training_args = TrainingArguments(\n",
    "    output_dir=\"./resultsTransformer\",\n",
    "    learning_rate=1e-5,\n",
    "    per_device_train_batch_size=5,\n",
    "    per_device_eval_batch_size=5,\n",
    "    num_train_epochs=10,\n",
    "    weight_decay=0.01,\n",
    "    eval_strategy=\"epoch\", # run validation at the end of each epoch\n",
    "    save_strategy=\"epoch\",\n",
    "    load_best_model_at_end=True,\n",
    "    metric_for_best_model=\"f1_micro\",\n",
    ")\n",
    "data_collator = DataCollatorWithPadding(tokenizer=tokenizer)\n",
    "\n",
    "trainer = Trainer(\n",
    "    model=model,\n",
    "    args=training_args,\n",
    "    train_dataset=tokenized_dataset[\"train\"],\n",
    "    eval_dataset=tokenized_dataset[\"validation\"],\n",
    "    tokenizer=tokenizer,\n",
    "    data_collator=data_collator,\n",
    "    compute_metrics=compute_metrics\n",
    ")\n"
   ]
  },
  {
   "cell_type": "code",
   "execution_count": 8,
   "id": "6219124e",
   "metadata": {},
   "outputs": [
    {
     "data": {
      "text/html": [],
      "text/plain": [
       "<IPython.core.display.HTML object>"
      ]
     },
     "metadata": {},
     "output_type": "display_data"
    },
    {
     "name": "stdout",
     "output_type": "stream",
     "text": [
      "DEBUG: Original logits shape: (966, 5)\n",
      "DEBUG: Original labels shape: (966, 5)\n"
     ]
    },
    {
     "data": {
      "text/plain": [
       "{'test_loss': 0.16487807035446167,\n",
       " 'test_model_preparation_time': 0.004,\n",
       " 'test_f1_micro': 0.9478487614080834,\n",
       " 'test_runtime': 47.6548,\n",
       " 'test_samples_per_second': 20.271,\n",
       " 'test_steps_per_second': 4.071}"
      ]
     },
     "execution_count": 8,
     "metadata": {},
     "output_type": "execute_result"
    }
   ],
   "source": [
    "y_pred = trainer.predict(tokenized_dataset[\"test\"])\n",
    "y_pred.metrics"
   ]
  },
  {
   "cell_type": "code",
   "execution_count": 14,
   "id": "4837fb98",
   "metadata": {},
   "outputs": [],
   "source": [
    "predictions = y_pred.predictions\n",
    "# Apply sigmoid and threshold for multi-label classification\n",
    "pred_probs = torch.sigmoid(torch.tensor(predictions))\n",
    "y_pred_labels = (pred_probs > 0.5).int().numpy()  # Threshold at 0.5\n",
    "\n",
    "# Get true labels\n",
    "y_true = np.array(tokenized_dataset[\"test\"][\"labels\"]).astype(int)"
   ]
  },
  {
   "cell_type": "code",
   "execution_count": 15,
   "id": "b5b53a63",
   "metadata": {},
   "outputs": [],
   "source": [
    "import pandas as pd\n",
    "\n",
    "# Get indices of misclassified examples\n",
    "misclassified_mask = np.any(y_pred_labels != y_true, axis=1)\n",
    "misclassified_indices = np.where(misclassified_mask)[0]\n",
    "\n",
    "# Create DataFrame with all test examples and predictions\n",
    "results_df = pd.DataFrame({\n",
    "    \"text\": tokenized_dataset[\"test\"][\"review_text\"],\n",
    "    \"true_labels\": [list(x) for x in y_true],\n",
    "    \"pred_labels\": [list(x) for x in y_pred_labels],\n",
    "    \"correct\": ~misclassified_mask\n",
    "})\n",
    "\n",
    "# Filter to only misclassified examples\n",
    "misclassified_df = results_df[results_df[\"correct\"] == False]"
   ]
  },
  {
   "cell_type": "code",
   "execution_count": null,
   "id": "8663c37c",
   "metadata": {},
   "outputs": [
    {
     "name": "stdout",
     "output_type": "stream",
     "text": [
      "Text: ESSE PRODUTO PODE ATÉ SER BOM, PORÉM, A AMERICANAS JÁ NÃO ME INSPIRA MUITA CONFIANÇA. NÃO PELA AMERICANAS EM SI, POIS SEMPRE FORA UMA EMPRESA SÉRIA. A ÚLTIMA COMPRA QUE EFETUEI, A AMERICANAS COLOCOU AOS CUIDADOS DA \"DIRECT\". ME CAUSARAM MUITOS PROBLEMAS PARA ENTREGAR O PRODUTO, QUE NA OCASIÃO ERA UM CELULAR. PRECISEI ACIONAR O RECLAME AQUI PARA ME AJUDAR.... NÃO FOI FÁCIL!!!!! GOSTARIA DE COMPRAR ESSE PRODUTO : Kit Com 10 Cuecas Boxer de Cotton 4.0 - Polo Match....., PORÉM NÃO SEI SE TEREI PROBLEMAS NOVAMENTE. COMPLICADO!!\n",
      "True labels: [1, 1, 0, 0, 0]\n",
      "Predicted labels: [1, 1, 1, 0, 0]\n",
      "--------------------------------------------------\n",
      "Text: Quero saber quando chegará mais pois gostaria de comprar\n",
      "True labels: [0, 1, 0, 0, 0]\n",
      "Predicted labels: [1, 1, 0, 0, 0]\n",
      "--------------------------------------------------\n",
      "Text: Excelente produto podem confiar  Entrega rápida sem nenhum problema\n",
      "True labels: [1, 0, 1, 0, 0]\n",
      "Predicted labels: [1, 0, 1, 1, 0]\n",
      "--------------------------------------------------\n",
      "Text: Escrevi 100%, mas este avaliador quer que façamos uma dissertação, o que não tenho tempo, então não mais avaliarei nada.\n",
      "True labels: [0, 1, 1, 0, 0]\n",
      "Predicted labels: [0, 0, 1, 0, 0]\n",
      "--------------------------------------------------\n",
      "Text: Enquanto as americanas continuarem usando os correios, estara dificil. 40 dias e nada do produto chegar\n",
      "True labels: [1, 1, 0, 0, 0]\n",
      "Predicted labels: [1, 0, 0, 0, 0]\n",
      "--------------------------------------------------\n",
      "Text: Hoje apareceu uma listra na tela nem queria destravar a senha\n",
      "True labels: [0, 0, 1, 0, 0]\n",
      "Predicted labels: [0, 0, 0, 1, 0]\n",
      "--------------------------------------------------\n",
      "Text: São de ouro esses copos? Olha o preço está muito caro\n",
      "True labels: [0, 0, 1, 0, 0]\n",
      "Predicted labels: [0, 1, 1, 0, 0]\n",
      "--------------------------------------------------\n",
      "Text: A TV é ótima, meu marido joga com o Xbox e adorou a imagem, porém, o controle está com problemas, mas vezes não funciona e as vezes funciona sozinho, fica abrindo os menus da TV. Nós vamos procurar a assistência aqui na cidade para comprar um novo, o trabalho e a demora inviabilizam pedir a troca.\n",
      "True labels: [0, 1, 1, 1, 0]\n",
      "Predicted labels: [0, 1, 1, 0, 0]\n",
      "--------------------------------------------------\n",
      "Text: A borracha estourou quando fui usar o forno,estou tentando entrar em contato e não consigo.ja deixei um e mail pra vcs mais até agora não me retornaram\n",
      "True labels: [0, 1, 1, 0, 0]\n",
      "Predicted labels: [0, 1, 0, 1, 0]\n",
      "--------------------------------------------------\n",
      "Text: A região do auto-falante aquece muito a ponto de incomodar mesmo em conversas breves. A LG precisa resolver este problema!\n",
      "True labels: [0, 0, 1, 0, 0]\n",
      "Predicted labels: [0, 1, 1, 0, 0]\n",
      "--------------------------------------------------\n",
      "Text: Não gostei do produto.  Não tem a mesma medida do j7\n",
      "True labels: [0, 0, 1, 0, 1]\n",
      "Predicted labels: [0, 0, 1, 0, 0]\n",
      "--------------------------------------------------\n",
      "Text: Na verdade a minha avaliação é para a empresa, pq é claro e notório que a descrição da cadeira é um caramelo ou marron !!!!! por aí. Eles enviaram uma cadeira cor chumbo e ou cinza (nem sei descriminar a cor) Não vou reclamar da demora da entrega pq eles dizem 58 dias, comprei em 22/03/18 e entregaram no dia 14/05/2018. Não respondem ao e-mail do comprador.  Insatisfeita.\n",
      "True labels: [1, 1, 0, 0, 1]\n",
      "Predicted labels: [1, 1, 0, 1, 1]\n",
      "--------------------------------------------------\n",
      "Text: O PRODUTO PARECE IGUAL, MAS NÃO VEM NA CAIXA ORIGINAL DA Flashlimp\n",
      "True labels: [0, 0, 0, 1, 0]\n",
      "Predicted labels: [0, 0, 1, 0, 0]\n",
      "--------------------------------------------------\n",
      "Text: E a cuba veio quebrada! Enrolada somente em um papelão, era visto.\n",
      "True labels: [0, 0, 1, 1, 0]\n",
      "Predicted labels: [0, 0, 0, 1, 0]\n",
      "--------------------------------------------------\n",
      "Text: não gostei do produto vem pouca quantidade procuro uma coisa que cresça o cabelo de brilho e esse não foi o produto de Claro não gostei vem pouca quantidade\n",
      "True labels: [0, 0, 1, 0, 0]\n",
      "Predicted labels: [0, 0, 1, 1, 0]\n",
      "--------------------------------------------------\n",
      "Text: Além de atrasar no prazo de entrega, não era o que eu esperava. Já tenho um carregador que veio junto com o celular, aí resolvi comprar outro pra usar no trabalho, mas não é a mesma coisa.\n",
      "True labels: [1, 0, 1, 0, 0]\n",
      "Predicted labels: [1, 0, 1, 1, 0]\n",
      "--------------------------------------------------\n",
      "Text: Adorei o produto atendeu todas as minhas expectativas, e a americanas como sempre me surpreendendo, paguei o produto dia dia 02/01/18 dia me deram ate dia 12/01/18 Mais o produto chegou dia 04/01 super rápida a entrega!\n",
      "True labels: [1, 0, 1, 0, 0]\n",
      "Predicted labels: [1, 1, 1, 0, 0]\n",
      "--------------------------------------------------\n",
      "Text: Embora fiz uma compra de dois itens e a entrega veio parcelada, no momento 4/05/2018 a loja esta no credito por não ter vencido a data de entrega.\n",
      "True labels: [1, 0, 0, 0, 0]\n",
      "Predicted labels: [1, 1, 0, 0, 0]\n",
      "--------------------------------------------------\n",
      "Text: Não chegou, estou esperando pra poder responder preciso que isso aconteça\n",
      "True labels: [1, 0, 0, 0, 0]\n",
      "Predicted labels: [1, 1, 0, 0, 0]\n",
      "--------------------------------------------------\n",
      "Text: Eu recebi ,e me avisaram que viriam no dia seguinte para abrir e instalar e até hoje não vieram...\n",
      "True labels: [0, 1, 0, 0, 0]\n",
      "Predicted labels: [1, 0, 0, 1, 0]\n",
      "--------------------------------------------------\n"
     ]
    }
   ],
   "source": [
    "# Print some misclassified examples\n",
    "error_Results = 50\n",
    "for idx, row in misclassified_df.head(error_Results).iterrows():\n",
    "    print(f\"Text: {row['text']}\")\n",
    "    print(f\"True labels: {row['true_labels']}\")\n",
    "    print(f\"Predicted labels: {row['pred_labels']}\")\n",
    "    print(\"-\" * 50)"
   ]
  }
 ],
 "metadata": {
  "kernelspec": {
   "display_name": "base",
   "language": "python",
   "name": "python3"
  },
  "language_info": {
   "codemirror_mode": {
    "name": "ipython",
    "version": 3
   },
   "file_extension": ".py",
   "mimetype": "text/x-python",
   "name": "python",
   "nbconvert_exporter": "python",
   "pygments_lexer": "ipython3",
   "version": "3.9.19"
  }
 },
 "nbformat": 4,
 "nbformat_minor": 5
}
